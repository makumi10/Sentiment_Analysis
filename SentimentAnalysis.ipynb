{
 "cells": [
  {
   "cell_type": "code",
   "execution_count": 1,
   "id": "1c10d1a9",
   "metadata": {},
   "outputs": [],
   "source": [
    "import tweepy\n",
    "from textblob import TextBlob\n",
    "from wordcloud import WordCloud\n",
    "import pandas as pd\n",
    "import numpy as np\n",
    "import re\n",
    "import matplotlib.pyplot as plt\n",
    "plt.style.use('fivethirtyeight')"
   ]
  },
  {
   "cell_type": "markdown",
   "id": "a4e46d6d",
   "metadata": {},
   "source": [
    "#### Twitter API Credentials"
   ]
  },
  {
   "cell_type": "code",
   "execution_count": 2,
   "id": "ab67b792",
   "metadata": {},
   "outputs": [],
   "source": [
    "consumer_key= \"your_consumer_key\"    \n",
    "consumer_secret= \"your_consumer_key_secret\"\n",
    "access_token= \"your_access_token\"    \n",
    "access_token_secret= \"your_access_token_secret\""
   ]
  },
  {
   "cell_type": "markdown",
   "id": "7f66c993",
   "metadata": {},
   "source": [
    "#### Authentication Object and Access Tokens"
   ]
  },
  {
   "cell_type": "code",
   "execution_count": 3,
   "id": "ea21f0ff",
   "metadata": {},
   "outputs": [],
   "source": [
    "auth = tweepy.OAuthHandler(consumer_key, consumer_secret)\n",
    "auth.set_access_token(access_token, access_token_secret)\n",
    "api = tweepy.API(auth, wait_on_rate_limit = True)"
   ]
  },
  {
   "cell_type": "markdown",
   "id": "97c0c375",
   "metadata": {},
   "source": [
    "#### Extract 200 tweets from amazon's twitter account\n",
    "#### Print The Last 5 tweets from the account"
   ]
  },
  {
   "cell_type": "code",
   "execution_count": 4,
   "id": "4c2cc7f3",
   "metadata": {
    "scrolled": false
   },
   "outputs": [
    {
     "name": "stderr",
     "output_type": "stream",
     "text": [
      "Unexpected parameter: lang\n"
     ]
    },
    {
     "name": "stdout",
     "output_type": "stream",
     "text": [
      "Show the 5 recent tweets: \n",
      "\n",
      "1) @BillyM2k Maybe this year isn’t out of the question …\n",
      "\n",
      "2) @BillyM2k Haha that’s next year\n",
      "\n",
      "3) SpaceX Falcon 🚀 team is making excellent progress – aiming for 60 launches this year!\n",
      "\n",
      "4) RT @SpaceX: Payloads for our upcoming fourth dedicated smallsat rideshare mission – Transporter-4 – were encapsulated into Falcon 9’s fairi…\n",
      "\n",
      "5) We’ve all been there\n",
      "\n"
     ]
    }
   ],
   "source": [
    "posts = api.user_timeline(screen_name=\"elonmusk\", count= 200, lang=\"en\", tweet_mode=\"extended\")\n",
    "\n",
    "print(\"Show the 5 recent tweets: \\n\")\n",
    "i = 1\n",
    "for tweet in posts[0:5]:\n",
    "    print(str(i) + ') ' + tweet.full_text + '\\n')\n",
    "    i = i + 1"
   ]
  },
  {
   "cell_type": "markdown",
   "id": "7b3d6b2c",
   "metadata": {},
   "source": [
    "#### Creating a  dataframe with a column called Tweets and Showing the first 5 rows of the data"
   ]
  },
  {
   "cell_type": "code",
   "execution_count": 5,
   "id": "d96d7635",
   "metadata": {},
   "outputs": [
    {
     "data": {
      "text/html": [
       "<div>\n",
       "<style scoped>\n",
       "    .dataframe tbody tr th:only-of-type {\n",
       "        vertical-align: middle;\n",
       "    }\n",
       "\n",
       "    .dataframe tbody tr th {\n",
       "        vertical-align: top;\n",
       "    }\n",
       "\n",
       "    .dataframe thead th {\n",
       "        text-align: right;\n",
       "    }\n",
       "</style>\n",
       "<table border=\"1\" class=\"dataframe\">\n",
       "  <thead>\n",
       "    <tr style=\"text-align: right;\">\n",
       "      <th></th>\n",
       "      <th>Tweets</th>\n",
       "    </tr>\n",
       "  </thead>\n",
       "  <tbody>\n",
       "    <tr>\n",
       "      <th>0</th>\n",
       "      <td>@BillyM2k Maybe this year isn’t out of the que...</td>\n",
       "    </tr>\n",
       "    <tr>\n",
       "      <th>1</th>\n",
       "      <td>@BillyM2k Haha that’s next year</td>\n",
       "    </tr>\n",
       "    <tr>\n",
       "      <th>2</th>\n",
       "      <td>SpaceX Falcon 🚀 team is making excellent progr...</td>\n",
       "    </tr>\n",
       "    <tr>\n",
       "      <th>3</th>\n",
       "      <td>RT @SpaceX: Payloads for our upcoming fourth d...</td>\n",
       "    </tr>\n",
       "    <tr>\n",
       "      <th>4</th>\n",
       "      <td>We’ve all been there</td>\n",
       "    </tr>\n",
       "  </tbody>\n",
       "</table>\n",
       "</div>"
      ],
      "text/plain": [
       "                                              Tweets\n",
       "0  @BillyM2k Maybe this year isn’t out of the que...\n",
       "1                    @BillyM2k Haha that’s next year\n",
       "2  SpaceX Falcon 🚀 team is making excellent progr...\n",
       "3  RT @SpaceX: Payloads for our upcoming fourth d...\n",
       "4                               We’ve all been there"
      ]
     },
     "execution_count": 5,
     "metadata": {},
     "output_type": "execute_result"
    }
   ],
   "source": [
    "dframe = pd.DataFrame ( [tweet.full_text for tweet in posts], columns=['Tweets'])\n",
    "\n",
    "dframe.head()"
   ]
  },
  {
   "cell_type": "markdown",
   "id": "b1f7d17d",
   "metadata": {},
   "source": [
    "#### Cleaning the text"
   ]
  },
  {
   "cell_type": "code",
   "execution_count": 6,
   "id": "4549d384",
   "metadata": {},
   "outputs": [
    {
     "data": {
      "text/html": [
       "<div>\n",
       "<style scoped>\n",
       "    .dataframe tbody tr th:only-of-type {\n",
       "        vertical-align: middle;\n",
       "    }\n",
       "\n",
       "    .dataframe tbody tr th {\n",
       "        vertical-align: top;\n",
       "    }\n",
       "\n",
       "    .dataframe thead th {\n",
       "        text-align: right;\n",
       "    }\n",
       "</style>\n",
       "<table border=\"1\" class=\"dataframe\">\n",
       "  <thead>\n",
       "    <tr style=\"text-align: right;\">\n",
       "      <th></th>\n",
       "      <th>Tweets</th>\n",
       "    </tr>\n",
       "  </thead>\n",
       "  <tbody>\n",
       "    <tr>\n",
       "      <th>0</th>\n",
       "      <td>Maybe this year isn’t out of the question …</td>\n",
       "    </tr>\n",
       "    <tr>\n",
       "      <th>1</th>\n",
       "      <td>Haha that’s next year</td>\n",
       "    </tr>\n",
       "    <tr>\n",
       "      <th>2</th>\n",
       "      <td>SpaceX Falcon 🚀 team is making excellent progr...</td>\n",
       "    </tr>\n",
       "    <tr>\n",
       "      <th>3</th>\n",
       "      <td>: Payloads for our upcoming fourth dedicated s...</td>\n",
       "    </tr>\n",
       "    <tr>\n",
       "      <th>4</th>\n",
       "      <td>We’ve all been there</td>\n",
       "    </tr>\n",
       "    <tr>\n",
       "      <th>5</th>\n",
       "      <td></td>\n",
       "    </tr>\n",
       "    <tr>\n",
       "      <th>6</th>\n",
       "      <td>Covid-19 is the virus of Theseus.\\n\\nHow many ...</td>\n",
       "    </tr>\n",
       "    <tr>\n",
       "      <th>7</th>\n",
       "      <td>The Washington Post’s current slogan is “Demo...</td>\n",
       "    </tr>\n",
       "    <tr>\n",
       "      <th>8</th>\n",
       "      <td>Ah yes, I see they decided to editorialize. H...</td>\n",
       "    </tr>\n",
       "    <tr>\n",
       "      <th>9</th>\n",
       "      <td>tick tock</td>\n",
       "    </tr>\n",
       "    <tr>\n",
       "      <th>10</th>\n",
       "      <td>I usually drive an alpha build, but switch to...</td>\n",
       "    </tr>\n",
       "    <tr>\n",
       "      <th>11</th>\n",
       "      <td>TikTok feels like such an obvious AI attack t...</td>\n",
       "    </tr>\n",
       "    <tr>\n",
       "      <th>12</th>\n",
       "      <td>@_BRCooper  🤣</td>\n",
       "    </tr>\n",
       "    <tr>\n",
       "      <th>13</th>\n",
       "      <td>Seize the memes of production!</td>\n",
       "    </tr>\n",
       "    <tr>\n",
       "      <th>14</th>\n",
       "      <td>Toronto streetcars are not yet handled well...</td>\n",
       "    </tr>\n",
       "    <tr>\n",
       "      <th>15</th>\n",
       "      <td>🤣</td>\n",
       "    </tr>\n",
       "    <tr>\n",
       "      <th>16</th>\n",
       "      <td>👍</td>\n",
       "    </tr>\n",
       "    <tr>\n",
       "      <th>17</th>\n",
       "      <td>Funny to think that sapphire is just corroded...</td>\n",
       "    </tr>\n",
       "    <tr>\n",
       "      <th>18</th>\n",
       "      <td>I just did. Now what?</td>\n",
       "    </tr>\n",
       "    <tr>\n",
       "      <th>19</th>\n",
       "      <td>This is pretty good. 10.12 will have major im...</td>\n",
       "    </tr>\n",
       "    <tr>\n",
       "      <th>20</th>\n",
       "      <td>Looking into it</td>\n",
       "    </tr>\n",
       "  </tbody>\n",
       "</table>\n",
       "</div>"
      ],
      "text/plain": [
       "                                               Tweets\n",
       "0         Maybe this year isn’t out of the question …\n",
       "1                               Haha that’s next year\n",
       "2   SpaceX Falcon 🚀 team is making excellent progr...\n",
       "3   : Payloads for our upcoming fourth dedicated s...\n",
       "4                                We’ve all been there\n",
       "5                                                    \n",
       "6   Covid-19 is the virus of Theseus.\\n\\nHow many ...\n",
       "7    The Washington Post’s current slogan is “Demo...\n",
       "8    Ah yes, I see they decided to editorialize. H...\n",
       "9                                           tick tock\n",
       "10   I usually drive an alpha build, but switch to...\n",
       "11   TikTok feels like such an obvious AI attack t...\n",
       "12                                      @_BRCooper  🤣\n",
       "13                     Seize the memes of production!\n",
       "14     Toronto streetcars are not yet handled well...\n",
       "15                                                  🤣\n",
       "16                                                  👍\n",
       "17   Funny to think that sapphire is just corroded...\n",
       "18                              I just did. Now what?\n",
       "19   This is pretty good. 10.12 will have major im...\n",
       "20                                    Looking into it"
      ]
     },
     "execution_count": 6,
     "metadata": {},
     "output_type": "execute_result"
    }
   ],
   "source": [
    "def cleanTxt(text):\n",
    "    text = re.sub(r'@[A-Za-z0-9]+', '', text) # Removing @mentions\n",
    "    text = re.sub(r'#','', text) #Removing the # symbol\n",
    "    text = re.sub(r'RT[\\s]+', '', text) # Removing RT\n",
    "    text = re.sub(r'https?:\\/\\/\\S+', '', text) # Removing the Hyper Link\n",
    "    \n",
    "    return text\n",
    "\n",
    "dframe['Tweets'] = dframe['Tweets'].apply(cleanTxt)\n",
    "dframe"
   ]
  },
  {
   "cell_type": "markdown",
   "id": "7c807103",
   "metadata": {},
   "source": [
    "#### Creating a function to get the subjectivity and polarity"
   ]
  },
  {
   "cell_type": "code",
   "execution_count": 7,
   "id": "6393f4e3",
   "metadata": {},
   "outputs": [
    {
     "data": {
      "text/html": [
       "<div>\n",
       "<style scoped>\n",
       "    .dataframe tbody tr th:only-of-type {\n",
       "        vertical-align: middle;\n",
       "    }\n",
       "\n",
       "    .dataframe tbody tr th {\n",
       "        vertical-align: top;\n",
       "    }\n",
       "\n",
       "    .dataframe thead th {\n",
       "        text-align: right;\n",
       "    }\n",
       "</style>\n",
       "<table border=\"1\" class=\"dataframe\">\n",
       "  <thead>\n",
       "    <tr style=\"text-align: right;\">\n",
       "      <th></th>\n",
       "      <th>Tweets</th>\n",
       "      <th>Subjectivity</th>\n",
       "      <th>Polarity</th>\n",
       "    </tr>\n",
       "  </thead>\n",
       "  <tbody>\n",
       "    <tr>\n",
       "      <th>0</th>\n",
       "      <td>Maybe this year isn’t out of the question …</td>\n",
       "      <td>0.000000</td>\n",
       "      <td>0.000000</td>\n",
       "    </tr>\n",
       "    <tr>\n",
       "      <th>1</th>\n",
       "      <td>Haha that’s next year</td>\n",
       "      <td>0.150000</td>\n",
       "      <td>0.100000</td>\n",
       "    </tr>\n",
       "    <tr>\n",
       "      <th>2</th>\n",
       "      <td>SpaceX Falcon 🚀 team is making excellent progr...</td>\n",
       "      <td>1.000000</td>\n",
       "      <td>1.000000</td>\n",
       "    </tr>\n",
       "    <tr>\n",
       "      <th>3</th>\n",
       "      <td>: Payloads for our upcoming fourth dedicated s...</td>\n",
       "      <td>0.000000</td>\n",
       "      <td>0.000000</td>\n",
       "    </tr>\n",
       "    <tr>\n",
       "      <th>4</th>\n",
       "      <td>We’ve all been there</td>\n",
       "      <td>0.000000</td>\n",
       "      <td>0.000000</td>\n",
       "    </tr>\n",
       "    <tr>\n",
       "      <th>5</th>\n",
       "      <td></td>\n",
       "      <td>0.000000</td>\n",
       "      <td>0.000000</td>\n",
       "    </tr>\n",
       "    <tr>\n",
       "      <th>6</th>\n",
       "      <td>Covid-19 is the virus of Theseus.\\n\\nHow many ...</td>\n",
       "      <td>0.500000</td>\n",
       "      <td>0.500000</td>\n",
       "    </tr>\n",
       "    <tr>\n",
       "      <th>7</th>\n",
       "      <td>The Washington Post’s current slogan is “Demo...</td>\n",
       "      <td>0.644444</td>\n",
       "      <td>0.312500</td>\n",
       "    </tr>\n",
       "    <tr>\n",
       "      <th>8</th>\n",
       "      <td>Ah yes, I see they decided to editorialize. H...</td>\n",
       "      <td>0.100000</td>\n",
       "      <td>0.000000</td>\n",
       "    </tr>\n",
       "    <tr>\n",
       "      <th>9</th>\n",
       "      <td>tick tock</td>\n",
       "      <td>0.000000</td>\n",
       "      <td>0.000000</td>\n",
       "    </tr>\n",
       "    <tr>\n",
       "      <th>10</th>\n",
       "      <td>I usually drive an alpha build, but switch to...</td>\n",
       "      <td>0.392857</td>\n",
       "      <td>0.017857</td>\n",
       "    </tr>\n",
       "    <tr>\n",
       "      <th>11</th>\n",
       "      <td>TikTok feels like such an obvious AI attack t...</td>\n",
       "      <td>0.641667</td>\n",
       "      <td>0.050000</td>\n",
       "    </tr>\n",
       "    <tr>\n",
       "      <th>12</th>\n",
       "      <td>@_BRCooper  🤣</td>\n",
       "      <td>0.000000</td>\n",
       "      <td>0.000000</td>\n",
       "    </tr>\n",
       "    <tr>\n",
       "      <th>13</th>\n",
       "      <td>Seize the memes of production!</td>\n",
       "      <td>0.000000</td>\n",
       "      <td>0.000000</td>\n",
       "    </tr>\n",
       "    <tr>\n",
       "      <th>14</th>\n",
       "      <td>Toronto streetcars are not yet handled well...</td>\n",
       "      <td>0.000000</td>\n",
       "      <td>0.000000</td>\n",
       "    </tr>\n",
       "    <tr>\n",
       "      <th>15</th>\n",
       "      <td>🤣</td>\n",
       "      <td>0.000000</td>\n",
       "      <td>0.000000</td>\n",
       "    </tr>\n",
       "    <tr>\n",
       "      <th>16</th>\n",
       "      <td>👍</td>\n",
       "      <td>0.000000</td>\n",
       "      <td>0.000000</td>\n",
       "    </tr>\n",
       "    <tr>\n",
       "      <th>17</th>\n",
       "      <td>Funny to think that sapphire is just corroded...</td>\n",
       "      <td>1.000000</td>\n",
       "      <td>0.312500</td>\n",
       "    </tr>\n",
       "    <tr>\n",
       "      <th>18</th>\n",
       "      <td>I just did. Now what?</td>\n",
       "      <td>0.000000</td>\n",
       "      <td>0.000000</td>\n",
       "    </tr>\n",
       "    <tr>\n",
       "      <th>19</th>\n",
       "      <td>This is pretty good. 10.12 will have major im...</td>\n",
       "      <td>0.559184</td>\n",
       "      <td>0.213010</td>\n",
       "    </tr>\n",
       "    <tr>\n",
       "      <th>20</th>\n",
       "      <td>Looking into it</td>\n",
       "      <td>0.000000</td>\n",
       "      <td>0.000000</td>\n",
       "    </tr>\n",
       "  </tbody>\n",
       "</table>\n",
       "</div>"
      ],
      "text/plain": [
       "                                               Tweets  Subjectivity  Polarity\n",
       "0         Maybe this year isn’t out of the question …      0.000000  0.000000\n",
       "1                               Haha that’s next year      0.150000  0.100000\n",
       "2   SpaceX Falcon 🚀 team is making excellent progr...      1.000000  1.000000\n",
       "3   : Payloads for our upcoming fourth dedicated s...      0.000000  0.000000\n",
       "4                                We’ve all been there      0.000000  0.000000\n",
       "5                                                          0.000000  0.000000\n",
       "6   Covid-19 is the virus of Theseus.\\n\\nHow many ...      0.500000  0.500000\n",
       "7    The Washington Post’s current slogan is “Demo...      0.644444  0.312500\n",
       "8    Ah yes, I see they decided to editorialize. H...      0.100000  0.000000\n",
       "9                                           tick tock      0.000000  0.000000\n",
       "10   I usually drive an alpha build, but switch to...      0.392857  0.017857\n",
       "11   TikTok feels like such an obvious AI attack t...      0.641667  0.050000\n",
       "12                                      @_BRCooper  🤣      0.000000  0.000000\n",
       "13                     Seize the memes of production!      0.000000  0.000000\n",
       "14     Toronto streetcars are not yet handled well...      0.000000  0.000000\n",
       "15                                                  🤣      0.000000  0.000000\n",
       "16                                                  👍      0.000000  0.000000\n",
       "17   Funny to think that sapphire is just corroded...      1.000000  0.312500\n",
       "18                              I just did. Now what?      0.000000  0.000000\n",
       "19   This is pretty good. 10.12 will have major im...      0.559184  0.213010\n",
       "20                                    Looking into it      0.000000  0.000000"
      ]
     },
     "execution_count": 7,
     "metadata": {},
     "output_type": "execute_result"
    }
   ],
   "source": [
    "def getSubjectivity(text):\n",
    "    return TextBlob(text).sentiment.subjectivity\n",
    "\n",
    "def getPolarity(text):\n",
    "    return TextBlob(text).sentiment.polarity\n",
    "\n",
    "dframe['Subjectivity'] = dframe['Tweets'].apply(getSubjectivity)\n",
    "dframe['Polarity'] = dframe['Tweets'].apply(getPolarity)\n",
    "\n",
    "dframe"
   ]
  },
  {
   "cell_type": "markdown",
   "id": "91cefa35",
   "metadata": {},
   "source": [
    "#### Ploting the wordcloud"
   ]
  },
  {
   "cell_type": "code",
   "execution_count": 8,
   "id": "ce3c4ec9",
   "metadata": {},
   "outputs": [
    {
     "data": {
      "image/png": "[encoded data removed]",
      "text/plain": [
       "<Figure size 432x288 with 1 Axes>"
      ]
     },
     "metadata": {},
     "output_type": "display_data"
    }
   ],
   "source": [
    "allWords = ' '.join([twts for twts in dframe['Tweets']])\n",
    "wordCloud = WordCloud(width= 500, height= 300,  random_state = 21, max_font_size = 119).generate(allWords)\n",
    "\n",
    "plt.imshow(wordCloud, interpolation = \"bilinear\")\n",
    "plt.axis('off')\n",
    "plt.show()"
   ]
  },
  {
   "cell_type": "markdown",
   "id": "0ac93652",
   "metadata": {},
   "source": [
    "#### Creating a function to Compute the negative, neutral and positive analysis"
   ]
  },
  {
   "cell_type": "code",
   "execution_count": 9,
   "id": "5a1fc1a0",
   "metadata": {},
   "outputs": [
    {
     "data": {
      "text/html": [
       "<div>\n",
       "<style scoped>\n",
       "    .dataframe tbody tr th:only-of-type {\n",
       "        vertical-align: middle;\n",
       "    }\n",
       "\n",
       "    .dataframe tbody tr th {\n",
       "        vertical-align: top;\n",
       "    }\n",
       "\n",
       "    .dataframe thead th {\n",
       "        text-align: right;\n",
       "    }\n",
       "</style>\n",
       "<table border=\"1\" class=\"dataframe\">\n",
       "  <thead>\n",
       "    <tr style=\"text-align: right;\">\n",
       "      <th></th>\n",
       "      <th>Tweets</th>\n",
       "      <th>Subjectivity</th>\n",
       "      <th>Polarity</th>\n",
       "      <th>Analysis</th>\n",
       "    </tr>\n",
       "  </thead>\n",
       "  <tbody>\n",
       "    <tr>\n",
       "      <th>0</th>\n",
       "      <td>Maybe this year isn’t out of the question …</td>\n",
       "      <td>0.000000</td>\n",
       "      <td>0.000000</td>\n",
       "      <td>Neutral</td>\n",
       "    </tr>\n",
       "    <tr>\n",
       "      <th>1</th>\n",
       "      <td>Haha that’s next year</td>\n",
       "      <td>0.150000</td>\n",
       "      <td>0.100000</td>\n",
       "      <td>Positive</td>\n",
       "    </tr>\n",
       "    <tr>\n",
       "      <th>2</th>\n",
       "      <td>SpaceX Falcon 🚀 team is making excellent progr...</td>\n",
       "      <td>1.000000</td>\n",
       "      <td>1.000000</td>\n",
       "      <td>Positive</td>\n",
       "    </tr>\n",
       "    <tr>\n",
       "      <th>3</th>\n",
       "      <td>: Payloads for our upcoming fourth dedicated s...</td>\n",
       "      <td>0.000000</td>\n",
       "      <td>0.000000</td>\n",
       "      <td>Neutral</td>\n",
       "    </tr>\n",
       "    <tr>\n",
       "      <th>4</th>\n",
       "      <td>We’ve all been there</td>\n",
       "      <td>0.000000</td>\n",
       "      <td>0.000000</td>\n",
       "      <td>Neutral</td>\n",
       "    </tr>\n",
       "    <tr>\n",
       "      <th>5</th>\n",
       "      <td></td>\n",
       "      <td>0.000000</td>\n",
       "      <td>0.000000</td>\n",
       "      <td>Neutral</td>\n",
       "    </tr>\n",
       "    <tr>\n",
       "      <th>6</th>\n",
       "      <td>Covid-19 is the virus of Theseus.\\n\\nHow many ...</td>\n",
       "      <td>0.500000</td>\n",
       "      <td>0.500000</td>\n",
       "      <td>Positive</td>\n",
       "    </tr>\n",
       "    <tr>\n",
       "      <th>7</th>\n",
       "      <td>The Washington Post’s current slogan is “Demo...</td>\n",
       "      <td>0.644444</td>\n",
       "      <td>0.312500</td>\n",
       "      <td>Positive</td>\n",
       "    </tr>\n",
       "    <tr>\n",
       "      <th>8</th>\n",
       "      <td>Ah yes, I see they decided to editorialize. H...</td>\n",
       "      <td>0.100000</td>\n",
       "      <td>0.000000</td>\n",
       "      <td>Neutral</td>\n",
       "    </tr>\n",
       "    <tr>\n",
       "      <th>9</th>\n",
       "      <td>tick tock</td>\n",
       "      <td>0.000000</td>\n",
       "      <td>0.000000</td>\n",
       "      <td>Neutral</td>\n",
       "    </tr>\n",
       "    <tr>\n",
       "      <th>10</th>\n",
       "      <td>I usually drive an alpha build, but switch to...</td>\n",
       "      <td>0.392857</td>\n",
       "      <td>0.017857</td>\n",
       "      <td>Positive</td>\n",
       "    </tr>\n",
       "    <tr>\n",
       "      <th>11</th>\n",
       "      <td>TikTok feels like such an obvious AI attack t...</td>\n",
       "      <td>0.641667</td>\n",
       "      <td>0.050000</td>\n",
       "      <td>Positive</td>\n",
       "    </tr>\n",
       "    <tr>\n",
       "      <th>12</th>\n",
       "      <td>@_BRCooper  🤣</td>\n",
       "      <td>0.000000</td>\n",
       "      <td>0.000000</td>\n",
       "      <td>Neutral</td>\n",
       "    </tr>\n",
       "    <tr>\n",
       "      <th>13</th>\n",
       "      <td>Seize the memes of production!</td>\n",
       "      <td>0.000000</td>\n",
       "      <td>0.000000</td>\n",
       "      <td>Neutral</td>\n",
       "    </tr>\n",
       "    <tr>\n",
       "      <th>14</th>\n",
       "      <td>Toronto streetcars are not yet handled well...</td>\n",
       "      <td>0.000000</td>\n",
       "      <td>0.000000</td>\n",
       "      <td>Neutral</td>\n",
       "    </tr>\n",
       "    <tr>\n",
       "      <th>15</th>\n",
       "      <td>🤣</td>\n",
       "      <td>0.000000</td>\n",
       "      <td>0.000000</td>\n",
       "      <td>Neutral</td>\n",
       "    </tr>\n",
       "    <tr>\n",
       "      <th>16</th>\n",
       "      <td>👍</td>\n",
       "      <td>0.000000</td>\n",
       "      <td>0.000000</td>\n",
       "      <td>Neutral</td>\n",
       "    </tr>\n",
       "    <tr>\n",
       "      <th>17</th>\n",
       "      <td>Funny to think that sapphire is just corroded...</td>\n",
       "      <td>1.000000</td>\n",
       "      <td>0.312500</td>\n",
       "      <td>Positive</td>\n",
       "    </tr>\n",
       "    <tr>\n",
       "      <th>18</th>\n",
       "      <td>I just did. Now what?</td>\n",
       "      <td>0.000000</td>\n",
       "      <td>0.000000</td>\n",
       "      <td>Neutral</td>\n",
       "    </tr>\n",
       "    <tr>\n",
       "      <th>19</th>\n",
       "      <td>This is pretty good. 10.12 will have major im...</td>\n",
       "      <td>0.559184</td>\n",
       "      <td>0.213010</td>\n",
       "      <td>Positive</td>\n",
       "    </tr>\n",
       "    <tr>\n",
       "      <th>20</th>\n",
       "      <td>Looking into it</td>\n",
       "      <td>0.000000</td>\n",
       "      <td>0.000000</td>\n",
       "      <td>Neutral</td>\n",
       "    </tr>\n",
       "  </tbody>\n",
       "</table>\n",
       "</div>"
      ],
      "text/plain": [
       "                                               Tweets  Subjectivity  Polarity  \\\n",
       "0         Maybe this year isn’t out of the question …      0.000000  0.000000   \n",
       "1                               Haha that’s next year      0.150000  0.100000   \n",
       "2   SpaceX Falcon 🚀 team is making excellent progr...      1.000000  1.000000   \n",
       "3   : Payloads for our upcoming fourth dedicated s...      0.000000  0.000000   \n",
       "4                                We’ve all been there      0.000000  0.000000   \n",
       "5                                                          0.000000  0.000000   \n",
       "6   Covid-19 is the virus of Theseus.\\n\\nHow many ...      0.500000  0.500000   \n",
       "7    The Washington Post’s current slogan is “Demo...      0.644444  0.312500   \n",
       "8    Ah yes, I see they decided to editorialize. H...      0.100000  0.000000   \n",
       "9                                           tick tock      0.000000  0.000000   \n",
       "10   I usually drive an alpha build, but switch to...      0.392857  0.017857   \n",
       "11   TikTok feels like such an obvious AI attack t...      0.641667  0.050000   \n",
       "12                                      @_BRCooper  🤣      0.000000  0.000000   \n",
       "13                     Seize the memes of production!      0.000000  0.000000   \n",
       "14     Toronto streetcars are not yet handled well...      0.000000  0.000000   \n",
       "15                                                  🤣      0.000000  0.000000   \n",
       "16                                                  👍      0.000000  0.000000   \n",
       "17   Funny to think that sapphire is just corroded...      1.000000  0.312500   \n",
       "18                              I just did. Now what?      0.000000  0.000000   \n",
       "19   This is pretty good. 10.12 will have major im...      0.559184  0.213010   \n",
       "20                                    Looking into it      0.000000  0.000000   \n",
       "\n",
       "    Analysis  \n",
       "0    Neutral  \n",
       "1   Positive  \n",
       "2   Positive  \n",
       "3    Neutral  \n",
       "4    Neutral  \n",
       "5    Neutral  \n",
       "6   Positive  \n",
       "7   Positive  \n",
       "8    Neutral  \n",
       "9    Neutral  \n",
       "10  Positive  \n",
       "11  Positive  \n",
       "12   Neutral  \n",
       "13   Neutral  \n",
       "14   Neutral  \n",
       "15   Neutral  \n",
       "16   Neutral  \n",
       "17  Positive  \n",
       "18   Neutral  \n",
       "19  Positive  \n",
       "20   Neutral  "
      ]
     },
     "execution_count": 9,
     "metadata": {},
     "output_type": "execute_result"
    }
   ],
   "source": [
    "def getAnalysis(score):\n",
    "    if score < 0:\n",
    "        return 'Negative'\n",
    "    elif score == 0:\n",
    "        return 'Neutral'\n",
    "    else:\n",
    "        return 'Positive'\n",
    "    \n",
    "dframe['Analysis'] = dframe['Polarity'].apply(getAnalysis)\n",
    "\n",
    "dframe"
   ]
  },
  {
   "cell_type": "markdown",
   "id": "a9ccbb98",
   "metadata": {},
   "source": [
    "#### Print all of the positive tweets"
   ]
  },
  {
   "cell_type": "code",
   "execution_count": 10,
   "id": "dc941f83",
   "metadata": {
    "scrolled": false
   },
   "outputs": [
    {
     "name": "stdout",
     "output_type": "stream",
     "text": [
      "1)  Haha that’s next year\n",
      "\n",
      "2) SpaceX Falcon 🚀 team is making excellent progress – aiming for 60 launches this year!\n",
      "\n",
      "3) Covid-19 is the virus of Theseus.\n",
      "\n",
      "How many gene changes before it’s not Covid-19 anymore?\n",
      "\n",
      "I supposedly have it again (sigh), but almost no symptoms.\n",
      "\n",
      "4)  The Washington Post’s current slogan is “Democracy Dies in Darkness”. Catchy – for sure – but then what’s up with the paywall for news!?\n",
      "\n",
      "5)  I usually drive an alpha build, but switch to beta right before release so I know what Tesla owners are getting\n",
      "\n",
      "6)  TikTok feels like such an obvious AI attack that it’s annoying. \n",
      "\n",
      "I prefer to be attacked by AI with subtlety – maybe a rose, some candles, wine, Barry White, witty banter, that sort of thing …\n",
      "\n",
      "7)  Funny to think that sapphire is just corroded aluminum!\n",
      "\n",
      "8)  This is pretty good. 10.12 will have major improvements for tricky unprotected lefts &amp; heavy traffic in general. We’re also making good progress with single stack.\n",
      "\n"
     ]
    }
   ],
   "source": [
    "j=1\n",
    "sortedDFrame = dframe.sort_values(by=['Polarity'])\n",
    "for i in range(0, sortedDFrame.shape[0]):\n",
    "    if(sortedDFrame['Analysis'][i] == 'Positive'):\n",
    "        print(str(j) + ') ' + sortedDFrame['Tweets'][i])\n",
    "        print()\n",
    "        j = j + 1"
   ]
  },
  {
   "cell_type": "markdown",
   "id": "76811a02",
   "metadata": {},
   "source": [
    "#### Print The Negative Tweets"
   ]
  },
  {
   "cell_type": "code",
   "execution_count": 11,
   "id": "fe742d5d",
   "metadata": {
    "scrolled": false
   },
   "outputs": [],
   "source": [
    "j=1\n",
    "sortedDFrame = dframe.sort_values(by=['Polarity'])\n",
    "for i in range(0, sortedDFrame.shape[0]):\n",
    "    if(sortedDFrame['Analysis'][i] == 'Negative'):\n",
    "        print(str(j) + ') ' + sortedDFrame['Tweets'][i])\n",
    "        print()\n",
    "        j = j+1"
   ]
  },
  {
   "cell_type": "markdown",
   "id": "e6e59399",
   "metadata": {},
   "source": [
    "#### Plotting the Polarity and Subjectivity "
   ]
  },
  {
   "cell_type": "code",
   "execution_count": 12,
   "id": "82ee3626",
   "metadata": {
    "scrolled": false
   },
   "outputs": [
    {
     "data": {
      "image/png": "[encoded data removed]",
      "text/plain": [
       "<Figure size 576x432 with 1 Axes>"
      ]
     },
     "metadata": {},
     "output_type": "display_data"
    }
   ],
   "source": [
    "plt.figure(figsize=(8,6))\n",
    "for i in range(0, dframe.shape[0]):\n",
    "    plt.scatter(dframe['Polarity'][i], dframe['Subjectivity'][i], color='Green')\n",
    "    \n",
    "plt.title('Elon Musk Sentiment Analysis')\n",
    "plt.xlabel('Polarity')\n",
    "plt.ylabel('Subjectivity')\n",
    "plt.show()"
   ]
  },
  {
   "cell_type": "markdown",
   "id": "6f20c8f0",
   "metadata": {},
   "source": [
    "#### Get The Percentages of Positive Tweets"
   ]
  },
  {
   "cell_type": "code",
   "execution_count": 13,
   "id": "6fa199ce",
   "metadata": {},
   "outputs": [
    {
     "data": {
      "text/plain": [
       "38.1"
      ]
     },
     "execution_count": 13,
     "metadata": {},
     "output_type": "execute_result"
    }
   ],
   "source": [
    "ptweets = dframe[dframe.Analysis == 'Positive']\n",
    "ptweets = ptweets['Tweets']\n",
    "\n",
    "round ( (ptweets.shape[0] / dframe.shape[0]) * 100, 1)"
   ]
  },
  {
   "cell_type": "markdown",
   "id": "056cc778",
   "metadata": {},
   "source": [
    "#### Get Percentage of Negative Tweets"
   ]
  },
  {
   "cell_type": "code",
   "execution_count": 14,
   "id": "ac309b68",
   "metadata": {},
   "outputs": [
    {
     "data": {
      "text/plain": [
       "0.0"
      ]
     },
     "execution_count": 14,
     "metadata": {},
     "output_type": "execute_result"
    }
   ],
   "source": [
    "ntweets = dframe[dframe.Analysis == 'Negative']\n",
    "ntweets = ntweets['Tweets']\n",
    "\n",
    "round ( (ntweets.shape[0] / dframe.shape[0]) * 100, 1)"
   ]
  },
  {
   "cell_type": "markdown",
   "id": "2445f669",
   "metadata": {},
   "source": [
    "#### Show the Value Counts"
   ]
  },
  {
   "cell_type": "code",
   "execution_count": 15,
   "id": "3e26e082",
   "metadata": {},
   "outputs": [
    {
     "data": {
      "image/png": "[encoded data removed]",
      "text/plain": [
       "<Figure size 432x288 with 1 Axes>"
      ]
     },
     "metadata": {},
     "output_type": "display_data"
    }
   ],
   "source": [
    "dframe['Analysis'].value_counts()\n",
    "\n",
    "plt.title('Elon Musk Sentiment Analysis')\n",
    "plt.xlabel('Sentiment')\n",
    "plt.ylabel('Counts')\n",
    "dframe['Analysis'].value_counts().plot(kind='bar')\n",
    "plt.show()\n"
   ]
  },
  {
   "cell_type": "code",
   "execution_count": null,
   "id": "b7595c10",
   "metadata": {},
   "outputs": [],
   "source": []
  }
 ],
 "metadata": {
  "kernelspec": {
   "display_name": "Python 3 (ipykernel)",
   "language": "python",
   "name": "python3"
  },
  "language_info": {
   "codemirror_mode": {
    "name": "ipython",
    "version": 3
   },
   "file_extension": ".py",
   "mimetype": "text/x-python",
   "name": "python",
   "nbconvert_exporter": "python",
   "pygments_lexer": "ipython3",
   "version": "3.9.0"
  }
 },
 "nbformat": 4,
 "nbformat_minor": 5
}
